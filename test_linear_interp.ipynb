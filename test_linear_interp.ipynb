{
 "cells": [
  {
   "cell_type": "code",
   "execution_count": 1,
   "metadata": {},
   "outputs": [],
   "source": [
    "# import linear_interp\n",
    "import numpy as np\n",
    "import linear_interp"
   ]
  },
  {
   "cell_type": "code",
   "execution_count": 2,
   "metadata": {},
   "outputs": [
    {
     "name": "stdout",
     "output_type": "stream",
     "text": [
      "[[0. 1. 2. 3. 4. 5. 6. 7. 8. 9.]\n",
      " [0. 1. 2. 3. 4. 5. 6. 7. 8. 9.]]\n",
      "[[1.72367505 5.59897894 3.93954965 7.06822725]\n",
      " [7.01978227 2.45333345 2.4881783  7.2168496 ]]\n",
      "[[1.9151945  7.79975808]\n",
      " [6.22108771 2.72592605]\n",
      " [4.37727739 2.76464255]\n",
      " [7.85358584 8.01872178]]\n",
      "Point: (1.915195, 7.799758) \n",
      "-0.084805\n",
      "next\n",
      "k: 0\n",
      "0.221088\n",
      "next\n",
      "k: 0\n",
      "k: 1\n",
      "Point: (6.221088, 2.725926) \n",
      "0.377277\n",
      "next\n",
      "k: 0\n",
      "-0.146414\n",
      "next\n",
      "k: 0\n",
      "k: 1\n",
      "Point: (4.377277, 2.764643) \n",
      "-0.200242\n",
      "next\n",
      "k: 0\n",
      "-0.274074\n",
      "next\n",
      "k: 0\n",
      "k: 1\n",
      "Point: (7.853586, 8.018722) \n",
      "-0.235357\n",
      "next\n",
      "k: 0\n",
      "0.018722\n",
      "next\n",
      "k: 0\n",
      "k: 1\n"
     ]
    },
    {
     "data": {
      "text/plain": [
       "array([[0.        , 0.        , 0.        , 0.        , 0.        ,\n",
       "        0.        , 0.        , 0.        , 0.        , 0.        ],\n",
       "       [0.        , 0.        , 0.        , 0.        , 0.        ,\n",
       "        0.        , 0.67844397, 0.        , 0.        , 0.        ],\n",
       "       [0.        , 0.        , 0.        , 0.        , 0.        ,\n",
       "        0.        , 5.16212499, 1.20545554, 0.4707149 , 0.        ],\n",
       "       [0.        , 0.        , 0.        , 0.        , 0.        ,\n",
       "        0.        , 0.        , 0.        , 1.72754951, 0.01837127],\n",
       "       [0.        , 0.        , 0.        , 0.        , 0.        ,\n",
       "        0.        , 0.        , 0.62488528, 4.26576652, 0.        ],\n",
       "       [0.        , 0.        , 0.        , 0.        , 0.        ,\n",
       "        0.        , 0.        , 0.        , 2.26366434, 0.        ],\n",
       "       [0.        , 0.        , 0.        , 0.        , 0.        ,\n",
       "        0.        , 0.        , 0.        , 0.        , 0.        ],\n",
       "       [0.        , 0.        , 0.        , 0.80096768, 0.        ,\n",
       "        0.        , 0.        , 0.        , 0.        , 0.        ],\n",
       "       [0.        , 0.        , 0.59687226, 2.38066398, 0.        ,\n",
       "        0.        , 0.        , 0.        , 0.        , 0.        ],\n",
       "       [0.        , 0.        , 0.        , 0.        , 0.        ,\n",
       "        0.        , 0.        , 0.        , 0.        , 0.        ]])"
      ]
     },
     "execution_count": 2,
     "metadata": {},
     "output_type": "execute_result"
    }
   ],
   "source": [
    "import numpy as np\n",
    "import linear_interp\n",
    "np.random.seed(1234)\n",
    "\n",
    "data = np.random.random((2, 4)) * 9\n",
    "\n",
    "dim_0 = np.arange(10)\n",
    "dim_1 = np.arange(10)\n",
    "dims = np.array([dim_0, dim_1], dtype=np.float64)\n",
    "\n",
    "print(dims)\n",
    "print(data)\n",
    "\n",
    "linear_interp.py_bin_with_interpolation(data, dims)\n",
    "\n",
    "\n",
    "\n",
    "# linear_interp.py_bin_with_interpolation(data, dims)"
   ]
  },
  {
   "cell_type": "code",
   "execution_count": 3,
   "metadata": {},
   "outputs": [],
   "source": [
    "a = [3, 2, 1]\n",
    "b = [7, 8, 9]\n",
    "\n",
    "a_int = np.array([3, 2, 1], dtype=int)\n",
    "b_int = np.array([7, 8, 9], dtype=int)\n",
    "\n",
    "a_double = np.array([3, 2, 1], dtype=np.float64)\n",
    "b_double = np.array([7, 8, 9], dtype=np.float64)"
   ]
  },
  {
   "cell_type": "code",
   "execution_count": 4,
   "metadata": {},
   "outputs": [
    {
     "data": {
      "text/plain": [
       "7"
      ]
     },
     "execution_count": 4,
     "metadata": {},
     "output_type": "execute_result"
    }
   ],
   "source": [
    "linear_interp.py_vector_min_int(a)\n",
    "linear_interp.py_vector_min_int(b)"
   ]
  },
  {
   "cell_type": "code",
   "execution_count": 5,
   "metadata": {},
   "outputs": [
    {
     "data": {
      "text/plain": [
       "array([21, 16,  9], dtype=int32)"
      ]
     },
     "execution_count": 5,
     "metadata": {},
     "output_type": "execute_result"
    }
   ],
   "source": [
    "# linear_interp.py_dot_product_int(a, b)\n",
    "# linear_interp.py_vector_add_int(a, b)\n",
    "linear_interp.py_vector_mult_int(a, b)"
   ]
  },
  {
   "cell_type": "code",
   "execution_count": 6,
   "metadata": {},
   "outputs": [
    {
     "data": {
      "text/plain": [
       "array([21., 16.,  9.])"
      ]
     },
     "execution_count": 6,
     "metadata": {},
     "output_type": "execute_result"
    }
   ],
   "source": [
    "# linear_interp.py_dot_product_double(a, b)\n",
    "# linear_interp.py_vector_add_double(a, b)\n",
    "linear_interp.py_vector_mult_double(a, b)"
   ]
  }
 ],
 "metadata": {
  "kernelspec": {
   "display_name": "Python 3.9.2 ('mrsimulator-dev')",
   "language": "python",
   "name": "python3"
  },
  "language_info": {
   "codemirror_mode": {
    "name": "ipython",
    "version": 3
   },
   "file_extension": ".py",
   "mimetype": "text/x-python",
   "name": "python",
   "nbconvert_exporter": "python",
   "pygments_lexer": "ipython3",
   "version": "3.9.2"
  },
  "orig_nbformat": 4,
  "vscode": {
   "interpreter": {
    "hash": "dde7fa4676115091959ca1e5077ea5787bb96094d68b6d99a555a056f71591e8"
   }
  }
 },
 "nbformat": 4,
 "nbformat_minor": 2
}
