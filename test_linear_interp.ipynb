{
 "cells": [
  {
   "cell_type": "code",
   "execution_count": 1,
   "metadata": {},
   "outputs": [],
   "source": [
    "# import linear_interp\n",
    "import numpy as np\n",
    "np.set_printoptions(edgeitems=30, linewidth=100000)\n",
    "import linear_interp"
   ]
  },
  {
   "cell_type": "code",
   "execution_count": 2,
   "metadata": {},
   "outputs": [
    {
     "name": "stdout",
     "output_type": "stream",
     "text": [
      "[[1.9151945]]\n"
     ]
    },
    {
     "data": {
      "text/plain": [
       "array([0.       , 0.0848055, 0.9151945, 0.       , 0.       , 0.       , 0.       , 0.       , 0.       , 0.       ])"
      ]
     },
     "execution_count": 2,
     "metadata": {},
     "output_type": "execute_result"
    },
    {
     "name": "stdout",
     "output_type": "stream",
     "text": [
      "Point: (1.915195, 0.000000) \n",
      "-0.084805\n",
      "next\n",
      "k: 0\n",
      "Debug temp_arr1 print loop\n",
      "0 \n",
      "Debug temp_arr2 print loop\n",
      "0 \n",
      "Debug temp_arr1 print loop\n",
      "2 \n",
      "lin 2\n",
      "dir 1\n",
      "lin bin before 1.000000\n",
      "dir bin before 0.000000\n",
      "lin bin after  0.915195\n",
      "dir bin after  0.084805\n",
      "Debug prev directions print loop\n",
      "-1 \n"
     ]
    }
   ],
   "source": [
    "np.random.seed(1234)\n",
    "\n",
    "data = np.random.random((1,1)) * 9\n",
    "dims = np.array([np.arange(10)], dtype=np.float64)\n",
    "\n",
    "foo = linear_interp.py_bin_with_interpolation(data, dims)\n",
    "foo"
   ]
  },
  {
   "cell_type": "code",
   "execution_count": 3,
   "metadata": {},
   "outputs": [
    {
     "name": "stdout",
     "output_type": "stream",
     "text": [
      "[[0. 1. 2. 3. 4. 5. 6. 7. 8. 9.]\n",
      " [0. 1. 2. 3. 4. 5. 6. 7. 8. 9.]]\n",
      "[[1.35]\n",
      " [1.35]]\n",
      "[[1.5 1.5]]\n"
     ]
    },
    {
     "data": {
      "text/plain": [
       "array([[0.  , 0.  , 0.  , 0.  , 0.  , 0.  , 0.  , 0.  , 0.  , 0.  ],\n",
       "       [0.  , 0.25, 0.25, 0.  , 0.  , 0.  , 0.  , 0.  , 0.  , 0.  ],\n",
       "       [0.  , 0.25, 0.25, 0.  , 0.  , 0.  , 0.  , 0.  , 0.  , 0.  ],\n",
       "       [0.  , 0.  , 0.  , 0.  , 0.  , 0.  , 0.  , 0.  , 0.  , 0.  ],\n",
       "       [0.  , 0.  , 0.  , 0.  , 0.  , 0.  , 0.  , 0.  , 0.  , 0.  ],\n",
       "       [0.  , 0.  , 0.  , 0.  , 0.  , 0.  , 0.  , 0.  , 0.  , 0.  ],\n",
       "       [0.  , 0.  , 0.  , 0.  , 0.  , 0.  , 0.  , 0.  , 0.  , 0.  ],\n",
       "       [0.  , 0.  , 0.  , 0.  , 0.  , 0.  , 0.  , 0.  , 0.  , 0.  ],\n",
       "       [0.  , 0.  , 0.  , 0.  , 0.  , 0.  , 0.  , 0.  , 0.  , 0.  ],\n",
       "       [0.  , 0.  , 0.  , 0.  , 0.  , 0.  , 0.  , 0.  , 0.  , 0.  ]])"
      ]
     },
     "execution_count": 3,
     "metadata": {},
     "output_type": "execute_result"
    },
    {
     "name": "stdout",
     "output_type": "stream",
     "text": [
      "Point: (1.500000, 1.500000) \n",
      "-0.500000\n",
      "next\n",
      "k: 0\n",
      "Debug temp_arr1 print loop\n",
      "0 0 \n",
      "Debug temp_arr2 print loop\n",
      "0 0 \n",
      "Debug temp_arr1 print loop\n",
      "2 2 \n",
      "lin 22\n",
      "dir 12\n",
      "lin bin before 1.000000\n",
      "dir bin before 0.000000\n",
      "lin bin after  0.500000\n",
      "dir bin after  0.500000\n",
      "Debug prev directions print loop\n",
      "-1 0 \n",
      "-0.500000\n",
      "next\n",
      "k: 0\n",
      "Debug temp_arr1 print loop\n",
      "0 0 \n",
      "Debug temp_arr2 print loop\n",
      "0 0 \n",
      "Debug temp_arr1 print loop\n",
      "2 2 \n",
      "lin 22\n",
      "dir 21\n",
      "lin bin before 0.500000\n",
      "dir bin before 0.000000\n",
      "lin bin after  0.250000\n",
      "dir bin after  0.250000\n",
      "k: 1\n",
      "Debug temp_arr1 print loop\n",
      "1 0 \n",
      "Debug temp_arr2 print loop\n",
      "-1 0 \n",
      "Debug temp_arr1 print loop\n",
      "1 2 \n",
      "lin 12\n",
      "dir 11\n",
      "lin bin before 0.500000\n",
      "dir bin before 0.000000\n",
      "lin bin after  0.250000\n",
      "dir bin after  0.250000\n",
      "Debug prev directions print loop\n",
      "-1 -1 \n"
     ]
    }
   ],
   "source": [
    "np.random.seed(1234)\n",
    "\n",
    "# data = np.random.random((2, 1)) * 9\n",
    "# data = np.array([[1.8], [1.8]], dtype=np.float64)  # Good\n",
    "# data = np.array([[1.35], [1.8]], dtype=np.float64)  # Reversed dimensions?\n",
    "data = np.array([[1.35], [1.35]], dtype=np.float64)  # Fails on all equal\n",
    "\n",
    "dim_0 = np.arange(10)\n",
    "dim_1 = np.arange(10)\n",
    "dims = np.array([dim_0, dim_1], dtype=np.float64)\n",
    "\n",
    "print(dims)\n",
    "print(data)\n",
    "\n",
    "foo = linear_interp.py_bin_with_interpolation(data, dims)\n",
    "foo\n",
    "\n",
    "\n",
    "# linear_interp.py_bin_with_interpolation(data, dims)"
   ]
  },
  {
   "cell_type": "code",
   "execution_count": 4,
   "metadata": {},
   "outputs": [
    {
     "data": {
      "text/plain": [
       "array([0, 0], dtype=int32)"
      ]
     },
     "execution_count": 4,
     "metadata": {},
     "output_type": "execute_result"
    }
   ],
   "source": [
    "linear_interp.py_vector_mult_int(\n",
    "    [0, 1],\n",
    "    [-1, 0]\n",
    ")"
   ]
  },
  {
   "cell_type": "code",
   "execution_count": 5,
   "metadata": {},
   "outputs": [
    {
     "data": {
      "text/plain": [
       "array([[0.        , 0.        , 0.        , 0.        , 0.        , 0.        , 0.        , 0.        , 0.        , 0.        ],\n",
       "       [0.        , 0.        , 0.        , 0.        , 0.        , 0.        , 0.0848055 , 0.        , 0.        , 0.        ],\n",
       "       [0.        , 0.        , 0.        , 0.        , 0.        , 0.        , 0.55525249, 0.15760376, 0.        , 0.        ],\n",
       "       [0.        , 0.        , 0.        , 0.        , 0.        , 0.        , 0.        , 0.        , 0.        , 0.        ],\n",
       "       [0.        , 0.        , 0.        , 0.        , 0.        , 0.        , 0.        , 0.        , 0.        , 0.        ],\n",
       "       [0.        , 0.        , 0.        , 0.        , 0.        , 0.        , 0.        , 0.        , 0.        , 0.        ],\n",
       "       [0.        , 0.        , 0.        , 0.        , 0.        , 0.        , 0.        , 0.        , 0.        , 0.        ],\n",
       "       [0.        , 0.        , 0.        , 0.        , 0.        , 0.        , 0.        , 0.        , 0.        , 0.        ],\n",
       "       [0.        , 0.        , 0.        , 0.        , 0.        , 0.        , 0.        , 0.        , 0.        , 0.        ],\n",
       "       [0.        , 0.        , 0.        , 0.        , 0.        , 0.        , 0.        , 0.        , 0.        , 0.        ]])"
      ]
     },
     "execution_count": 5,
     "metadata": {},
     "output_type": "execute_result"
    }
   ],
   "source": [
    "np.set_printoptions(edgeitems=30, linewidth=100000)\n",
    "foo"
   ]
  },
  {
   "cell_type": "code",
   "execution_count": null,
   "metadata": {},
   "outputs": [],
   "source": []
  },
  {
   "cell_type": "code",
   "execution_count": 3,
   "metadata": {},
   "outputs": [],
   "source": [
    "a = [3, 2, 1]\n",
    "b = [7, 8, 9]\n",
    "\n",
    "a_int = np.array([3, 2, 1], dtype=int)\n",
    "b_int = np.array([7, 8, 9], dtype=int)\n",
    "\n",
    "a_double = np.array([3, 2, 1], dtype=np.float64)\n",
    "b_double = np.array([7, 8, 9], dtype=np.float64)"
   ]
  },
  {
   "cell_type": "code",
   "execution_count": 4,
   "metadata": {},
   "outputs": [
    {
     "data": {
      "text/plain": [
       "7"
      ]
     },
     "execution_count": 4,
     "metadata": {},
     "output_type": "execute_result"
    }
   ],
   "source": [
    "linear_interp.py_vector_min_int(a)\n",
    "linear_interp.py_vector_min_int(b)"
   ]
  },
  {
   "cell_type": "code",
   "execution_count": 5,
   "metadata": {},
   "outputs": [
    {
     "data": {
      "text/plain": [
       "array([21, 16,  9], dtype=int32)"
      ]
     },
     "execution_count": 5,
     "metadata": {},
     "output_type": "execute_result"
    }
   ],
   "source": [
    "# linear_interp.py_dot_product_int(a, b)\n",
    "# linear_interp.py_vector_add_int(a, b)\n",
    "linear_interp.py_vector_mult_int(a, b)"
   ]
  },
  {
   "cell_type": "code",
   "execution_count": 6,
   "metadata": {},
   "outputs": [
    {
     "data": {
      "text/plain": [
       "array([21., 16.,  9.])"
      ]
     },
     "execution_count": 6,
     "metadata": {},
     "output_type": "execute_result"
    }
   ],
   "source": [
    "# linear_interp.py_dot_product_double(a, b)\n",
    "# linear_interp.py_vector_add_double(a, b)\n",
    "linear_interp.py_vector_mult_double(a, b)"
   ]
  }
 ],
 "metadata": {
  "kernelspec": {
   "display_name": "Python 3.9.2 ('mrsimulator-dev')",
   "language": "python",
   "name": "python3"
  },
  "language_info": {
   "codemirror_mode": {
    "name": "ipython",
    "version": 3
   },
   "file_extension": ".py",
   "mimetype": "text/x-python",
   "name": "python",
   "nbconvert_exporter": "python",
   "pygments_lexer": "ipython3",
   "version": "3.9.2"
  },
  "orig_nbformat": 4,
  "vscode": {
   "interpreter": {
    "hash": "dde7fa4676115091959ca1e5077ea5787bb96094d68b6d99a555a056f71591e8"
   }
  }
 },
 "nbformat": 4,
 "nbformat_minor": 2
}
