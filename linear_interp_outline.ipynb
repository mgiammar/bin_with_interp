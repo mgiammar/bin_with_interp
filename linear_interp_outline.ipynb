{
 "cells": [
  {
   "cell_type": "code",
   "execution_count": 1,
   "metadata": {},
   "outputs": [],
   "source": [
    "import numpy as np"
   ]
  },
  {
   "cell_type": "code",
   "execution_count": 93,
   "metadata": {},
   "outputs": [],
   "source": [
    "import numpy as np\n",
    "def linear_interp(points, dim_sizes):\n",
    "    amp = np.zeros(dim_sizes)\n",
    "    nearest = np.rint(points)\n",
    "    nearest = nearest.astype(int)\n",
    "    offsets = points - nearest\n",
    "\n",
    "    maximum_allowed_point = np.asarray(dim_sizes) - 1\n",
    "    \n",
    "    for (point, near, offset) in zip(points, nearest, offsets):\n",
    "        point = np.asarray(point)\n",
    "        if point.min() < 0 or (maximum_allowed_point - point).min() < 0:\n",
    "            continue\n",
    "\n",
    "        temp_amp = np.zeros(amp.shape)\n",
    "        temp_amp[tuple(near)] += 1\n",
    "\n",
    "        previous_bins_dirs = np.array([[0] * len(offset)])\n",
    "        for i, component in enumerate(offset):\n",
    "            if component == 0:\n",
    "                continue\n",
    "\n",
    "            left = component < 0\n",
    "            component = -component if left else component\n",
    "            d = np.zeros(offset.size, dtype=int)\n",
    "            d[i] = -1 if left else 1\n",
    "\n",
    "            for prev_dir in previous_bins_dirs:\n",
    "                temp_amp[tuple(near + prev_dir + d)] = temp_amp[tuple(near + prev_dir)] * component\n",
    "                temp_amp[tuple(near + prev_dir)] *= (1-component)\n",
    "            \n",
    "            previous_bins_dirs = np.concatenate((previous_bins_dirs, previous_bins_dirs + d))\n",
    "\n",
    "        amp += temp_amp\n",
    "    return amp"
   ]
  },
  {
   "cell_type": "code",
   "execution_count": 95,
   "metadata": {},
   "outputs": [
    {
     "name": "stdout",
     "output_type": "stream",
     "text": [
      "[3 3]\n"
     ]
    },
    {
     "data": {
      "text/plain": [
       "array([[0.   , 0.   , 0.   , 0.   ],\n",
       "       [0.   , 0.5  , 0.5  , 0.   ],\n",
       "       [0.   , 0.5  , 1.175, 0.075],\n",
       "       [0.   , 0.   , 0.225, 0.025]])"
      ]
     },
     "execution_count": 95,
     "metadata": {},
     "output_type": "execute_result"
    }
   ],
   "source": [
    "linear_interp(\n",
    "    [\n",
    "        [0, -0.1],  # Bad point\n",
    "        [10.1, 0],  # Bad point\n",
    "        [1.5, 1.5],\n",
    "        [1.5, 1.5],\n",
    "        [2.25, 2.1],\n",
    "    ], \n",
    "    (4, 4)\n",
    ")"
   ]
  },
  {
   "cell_type": "code",
   "execution_count": 99,
   "metadata": {},
   "outputs": [
    {
     "name": "stdout",
     "output_type": "stream",
     "text": [
      "[4 4 4 4 4]\n"
     ]
    },
    {
     "data": {
      "text/plain": [
       "0.4031999999999999"
      ]
     },
     "execution_count": 99,
     "metadata": {},
     "output_type": "execute_result"
    }
   ],
   "source": [
    "linear_interp(\n",
    "    [\n",
    "        [0, 1.1, 2.2, 3.3, 2.2]\n",
    "    ], \n",
    "    (5, 5, 5, 5, 5)\n",
    ").max()"
   ]
  },
  {
   "cell_type": "code",
   "execution_count": null,
   "metadata": {},
   "outputs": [],
   "source": []
  }
 ],
 "metadata": {
  "kernelspec": {
   "display_name": "Python 3.9.2 ('mrsimulator-dev')",
   "language": "python",
   "name": "python3"
  },
  "language_info": {
   "codemirror_mode": {
    "name": "ipython",
    "version": 3
   },
   "file_extension": ".py",
   "mimetype": "text/x-python",
   "name": "python",
   "nbconvert_exporter": "python",
   "pygments_lexer": "ipython3",
   "version": "3.9.2"
  },
  "orig_nbformat": 4,
  "vscode": {
   "interpreter": {
    "hash": "dde7fa4676115091959ca1e5077ea5787bb96094d68b6d99a555a056f71591e8"
   }
  }
 },
 "nbformat": 4,
 "nbformat_minor": 2
}
